{
 "cells": [
  {
   "cell_type": "markdown",
   "id": "a178ca35-c712-4662-93e6-9f1a3f333930",
   "metadata": {},
   "source": [
    "<h1>Data Science Tools and Ecosystem</h1>\n"
   ]
  },
  {
   "cell_type": "markdown",
   "id": "7367e3b8-7885-4d6c-92ec-d646b46346a4",
   "metadata": {
    "tags": []
   },
   "source": [
    "In this notebook, Data Science Tools and Ecosystem are summarized."
   ]
  },
  {
   "cell_type": "markdown",
   "id": "b77291bb-4733-45a0-825e-5165038bb685",
   "metadata": {},
   "source": [
    "<b>Objectives:</b> List popular languages for Data Science\n",
    "- Python\n",
    "- SQL\n",
    "- R\n",
    "  "
   ]
  },
  {
   "cell_type": "markdown",
   "id": "7d01e271-88ba-4c6b-837f-8f1f15063a9d",
   "metadata": {},
   "source": [
    "Some of the popular languages that Data Scientists use are:\n",
    "\n",
    "1. Python\n",
    "2. SQL\n",
    "3. R"
   ]
  },
  {
   "cell_type": "markdown",
   "id": "f6b2d299-9db8-4ec9-9a79-3d2ab5b204f5",
   "metadata": {},
   "source": [
    "Some of the commonly used libraries used by Data Scientists include:\n",
    "\n",
    "1. Pandas\n",
    "2. Numpy\n",
    "3. Matplotlib\n",
    "4. Tensorflow"
   ]
  },
  {
   "cell_type": "markdown",
   "id": "84d4e547-adac-4d76-b73f-c00f5a8077df",
   "metadata": {
    "tags": []
   },
   "source": [
    "| Data Science Tools |\n",
    "| ------------------ |\n",
    "| Jupyter Notebook   |\n",
    "| RStudio            |\n",
    "| Spyder             |\n"
   ]
  },
  {
   "cell_type": "markdown",
   "id": "b48a5a37-b5ff-476f-a3c1-68fa46ba1c01",
   "metadata": {},
   "source": [
    "<h3>Below are a few examples of evaluating arithmetic expressions in Python</h3>"
   ]
  },
  {
   "cell_type": "code",
   "execution_count": 18,
   "id": "7e2aab6e-15da-49fa-9023-1da70d38b445",
   "metadata": {
    "tags": []
   },
   "outputs": [
    {
     "data": {
      "text/plain": [
       "17"
      ]
     },
     "execution_count": 18,
     "metadata": {},
     "output_type": "execute_result"
    }
   ],
   "source": [
    "# This a simple arithmetic expression to mutiply then add integers\n",
    "\n",
    "(3*4)+5\n"
   ]
  },
  {
   "cell_type": "code",
   "execution_count": 19,
   "id": "1dd22b8b-3aff-4d47-a8f0-19d332fe4aa3",
   "metadata": {
    "tags": []
   },
   "outputs": [
    {
     "data": {
      "text/plain": [
       "3.3333333333333335"
      ]
     },
     "execution_count": 19,
     "metadata": {},
     "output_type": "execute_result"
    }
   ],
   "source": [
    "# This will convert 200 minutes to hours by diving by 60\n",
    "\n",
    "200/60\n"
   ]
  },
  {
   "cell_type": "markdown",
   "id": "012f2dd0-5fbf-431e-8c57-37a9e23282da",
   "metadata": {},
   "source": [
    "<h2>Author</h2>\n",
    "\n",
    "Mohammed Hasnain D"
   ]
  },
  {
   "cell_type": "code",
   "execution_count": null,
   "id": "9d227348-4869-434a-9ba9-03e8044ebcfd",
   "metadata": {},
   "outputs": [],
   "source": []
  },
  {
   "cell_type": "code",
   "execution_count": null,
   "id": "fd607ec4-d6b2-4ea5-ab14-e949aac9ffb3",
   "metadata": {},
   "outputs": [],
   "source": []
  }
 ],
 "metadata": {
  "kernelspec": {
   "display_name": "Python",
   "language": "python",
   "name": "conda-env-python-py"
  },
  "language_info": {
   "codemirror_mode": {
    "name": "ipython",
    "version": 3
   },
   "file_extension": ".py",
   "mimetype": "text/x-python",
   "name": "python",
   "nbconvert_exporter": "python",
   "pygments_lexer": "ipython3",
   "version": "3.7.12"
  }
 },
 "nbformat": 4,
 "nbformat_minor": 5
}
